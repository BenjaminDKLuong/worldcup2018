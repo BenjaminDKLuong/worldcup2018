{
  "cells": [
    {
      "metadata": {
        "_uuid": "bb2858093573dd2c97c474c1d0666aebb076f8a2"
      },
      "cell_type": "markdown",
      "source": "# WorldCup 2018 Analysis\n\nIn this notebook, I would like to analyze 3 last games of the World Cup 2018.  \n*  France vs Belgium (1st semi-final)\n* Croatia vs England (2nd semi-final)\n* France vs Croatia (final)\n\n### Here are my plans:\n1. Import the dataset\n1. Set up the teams\n1. Compare between teams based on: value, forward, midfielder, defender, goalkeeper , overall, and history games\n1. Make prediction before the game\n1. Compare the prediction and the result"
    },
    {
      "metadata": {
        "_uuid": "8f2839f25d086af736a60e9eeb907d3b93b6e0e5",
        "_cell_guid": "b1076dfc-b9ad-4769-8c92-a6c4dae69d19",
        "trusted": true
      },
      "cell_type": "code",
      "source": "# Import libraries\nimport pandas as pd\nimport numpy as np\n\nimport seaborn as sns\nimport matplotlib.pyplot as plt\n%matplotlib inline\nfrom IPython.display import Image\n\nfrom plotly.offline import iplot, init_notebook_mode\nfrom geopy.geocoders import Nominatim\nimport plotly.plotly as py\n\nimport os\nprint(os.listdir(\"../input\"))\n",
      "execution_count": null,
      "outputs": []
    },
    {
      "metadata": {
        "_uuid": "c9a19f445c9c350df4d9bb9eb0cabbd35a2e55ec"
      },
      "cell_type": "markdown",
      "source": "# 1. Data Preparation\n## 1.1 Load Data"
    },
    {
      "metadata": {
        "_cell_guid": "79c7e3d0-c299-4dcb-8224-4455121ee9b0",
        "_uuid": "d629ff2d2480ee46fbb7e2d37f6b5fab8052498a",
        "trusted": true,
        "scrolled": true
      },
      "cell_type": "code",
      "source": "df = pd.read_csv(\"../input/fifa-18-demo-player-dataset/CompleteDataset.csv\", index_col=0)\ndf.head()",
      "execution_count": null,
      "outputs": []
    },
    {
      "metadata": {
        "trusted": true,
        "_uuid": "75bbc4d2eab85c399fae20217f3a7b2d4c8af816"
      },
      "cell_type": "code",
      "source": "columns = ['Name','Age','Nationality','Overall','Value']\ndata = pd.DataFrame(df,columns=columns)\ndata.head()",
      "execution_count": null,
      "outputs": []
    },
    {
      "metadata": {
        "trusted": true,
        "_uuid": "c3d300b8c1f82cdad261d0a08e48de610627ae32"
      },
      "cell_type": "markdown",
      "source": "## 1.2 Summarize Data"
    },
    {
      "metadata": {
        "trusted": true,
        "scrolled": true,
        "_uuid": "312c4e474300acb25e57e16be4db809b1c36594f"
      },
      "cell_type": "code",
      "source": "data.info()",
      "execution_count": null,
      "outputs": []
    },
    {
      "metadata": {
        "_uuid": "3af0c21682b7e46bc6054daaaf60d3d50c161075"
      },
      "cell_type": "markdown",
      "source": "## 1.3 Preprocess Data\n\nI will change the Value column from string to integer by removing € and M (or K)."
    },
    {
      "metadata": {
        "trusted": true,
        "_uuid": "f4c78c3e52aa52f4c234cb22b47b00b968c43f5d"
      },
      "cell_type": "code",
      "source": "# Supporting function for converting string values into numbers\ndef str2number(amount):\n    if amount[-1] == 'M':\n        return float(amount[1:-1])*1000000\n    elif amount[-1] == 'K':\n        return float(amount[1:-1])*1000\n    else:\n        return float(amount[1:])\n    \ndata['Value'] = data['Value'].apply(lambda x: str2number(x))\n",
      "execution_count": null,
      "outputs": []
    },
    {
      "metadata": {
        "_uuid": "036c63d670b057d0d56372933ff6d1888c9d1ebd"
      },
      "cell_type": "markdown",
      "source": "# 2. Data Visualization\n## 2.1 Age"
    },
    {
      "metadata": {
        "trusted": true,
        "_uuid": "69840639a0c6e96355a2d7bd4dd8a95252fdc5bc"
      },
      "cell_type": "code",
      "source": "plt.figure(figsize=(16,8))\nsns.set_style(\"whitegrid\")\nplt.title('Grouping players by Age', fontsize=30, fontweight='bold', y=1.05,)\nplt.xlabel('Age',fontsize=25)\nplt.ylabel('Count',fontsize=25)\nsns.countplot(x=\"Age\", data=data, palette=\"hls\");\nplt.show()",
      "execution_count": null,
      "outputs": []
    },
    {
      "metadata": {
        "_uuid": "9c690ba68549ce6451f2b778a4bd7d35a623934c"
      },
      "cell_type": "markdown",
      "source": "Looking the graph above, I see players come from all ages.  I believe players can perform best when they are at age 20 to 29.  If they are younger than 20, they dont have a lot of experience.  If they are older than 29, they probably dont have enough strength.  So, I will deduct 5% overall score if players are younger than 20.  I deduct 3% overall score if players are older than 29.  Oder players dont have enough strength compare to younger players, but they have more experience.  That's why I deduct only 3% for older players."
    },
    {
      "metadata": {
        "trusted": true,
        "_uuid": "2e0f25a7750a01f3b5988f16f463c6e1d694b585"
      },
      "cell_type": "markdown",
      "source": "## 2.2 Overall"
    },
    {
      "metadata": {
        "trusted": true,
        "_uuid": "83cabe4a7f03c3cb68f5603b112348782bae2ecd"
      },
      "cell_type": "code",
      "source": "plt.figure(figsize=(16,8))\nsns.set_style(\"whitegrid\")\nplt.title('Grouping players by Overall', fontsize=30, fontweight='bold', y=1.05,)\nplt.xlabel('Number of players', fontsize=25)\nplt.ylabel('Players Age', fontsize=25)\nsns.countplot(x=\"Overall\", data=data, palette=\"hls\");\nplt.show()",
      "execution_count": null,
      "outputs": []
    },
    {
      "metadata": {
        "trusted": true,
        "_uuid": "1348ad85adf1a819c259adc6b587ca4a7ddb2f4d"
      },
      "cell_type": "code",
      "source": "data.Overall.describe()",
      "execution_count": null,
      "outputs": []
    },
    {
      "metadata": {
        "trusted": true,
        "_uuid": "3fd5dc04e0f1015b738a26f8349f2eb7b2a11c46"
      },
      "cell_type": "code",
      "source": "player_over_80 = len(data[data.Overall > 80])*100/len(data)\nprint('The percentage of players who have overall score greater than 80 is only {:.1f}%'.format(player_over_80))\nprint('Most players who play in Worldcup games have overall score obove 80.')",
      "execution_count": null,
      "outputs": []
    },
    {
      "metadata": {
        "_uuid": "d80b7e86916318042c6bd61b756077f2ca853140"
      },
      "cell_type": "markdown",
      "source": "The overall score is range from 46 to 94 points.  Majority of the score is from 62 to 71.   "
    },
    {
      "metadata": {
        "_uuid": "33c859697edcf1b3d1af8341e9f1176aaf898911"
      },
      "cell_type": "markdown",
      "source": "## 2.3 Nationality"
    },
    {
      "metadata": {
        "trusted": true,
        "_uuid": "03aced3e8c81e415b81c88eac8bfd522218770b5"
      },
      "cell_type": "code",
      "source": "'''\na = data.Nationality.value_counts().reset_index()\na.columns=['Nationality','Count']\na[:20]\n'''\ntop20_nation = data.groupby('Nationality').size().reset_index(name='Count').sort_values('Count',ascending = False)[:20]\ntop20_nation",
      "execution_count": null,
      "outputs": []
    },
    {
      "metadata": {
        "trusted": true,
        "_uuid": "38a79739faa25bea6112a5b9d3970a8659c5d24b"
      },
      "cell_type": "code",
      "source": "plt.figure(figsize=(16,20))\n\ncountries = list(top20_nation.loc[::-1,'Nationality'])\npos = np.arange(len(countries))\ncount = list(top20_nation.loc[::-1,'Count'])\n\nplt.barh(pos, count, align='center', alpha=.8)\nplt.yticks(pos, countries, fontsize=25)\nplt.xlabel('Count', fontsize=25)\nplt.title('Number players by Countries', fontsize=30, fontweight='bold')\n \nplt.show()",
      "execution_count": null,
      "outputs": []
    },
    {
      "metadata": {
        "_uuid": "06e80b0632eaea9f316a44612cd15979be6003d2"
      },
      "cell_type": "markdown",
      "source": "England has the most players.  It has about 500 players more than Germany (2nd).  "
    },
    {
      "metadata": {
        "_uuid": "58eac7a6a1b6d2fa48545c76ce06555f73d4f881"
      },
      "cell_type": "markdown",
      "source": "## 2.4 Relationship between Value and Age "
    },
    {
      "metadata": {
        "trusted": true,
        "_uuid": "48f253b3fc6e2f11bf375ea55196bd841fb61a91"
      },
      "cell_type": "code",
      "source": "plt.figure(figsize=(16,16))\nsns.set_style(\"whitegrid\")\nplt.title('Relationship between Value, Overall and Age', fontsize=30, fontweight='bold', y=1.05,)\nplt.xlabel('Age', fontsize=25)\nplt.ylabel('Overall', fontsize=25)\n\nage = data[\"Age\"].values\noverall = data[\"Overall\"].values\nvalue = data[\"Value\"].values\n\nplt.scatter(age, overall, s = value/50000, edgecolors='black', color=\"red\")\nplt.show()",
      "execution_count": null,
      "outputs": []
    },
    {
      "metadata": {
        "_uuid": "ed6c4f09916a3a98c6efb56d6ba7dc4a59ba0c2b"
      },
      "cell_type": "markdown",
      "source": "* Players with overall score above 75 have value\n* At younger age, players dont have high overall score.  The highest score is under 85.\n* As age inceasing, players have more experience, so the overall score inscreases, the value inscreases until age 33.\n* When players get older, their scores and values decrease after the age 33.\n* The age from 25 to 33 is a great time for a player to shine.\n"
    },
    {
      "metadata": {
        "trusted": true,
        "_uuid": "aaf547bf9ef413e2e2ea096bf646dba448922008"
      },
      "cell_type": "code",
      "source": "sns.pairplot(data[['Age','Overall','Value']])",
      "execution_count": null,
      "outputs": []
    },
    {
      "metadata": {
        "_uuid": "86cccac68b7b9609496a695dafe3132bec93a605"
      },
      "cell_type": "markdown",
      "source": "## 2.5 Relationship between Overall and Value"
    },
    {
      "metadata": {
        "trusted": true,
        "_uuid": "fde7bbc2eebc4c9175c79eeec00b7fb4714f6171"
      },
      "cell_type": "code",
      "source": "data['AgeRange'] = pd.cut(data.Age, bins = [0,23,33,45],labels = ['Young','Mature','Old'])",
      "execution_count": null,
      "outputs": []
    },
    {
      "metadata": {
        "trusted": true,
        "_uuid": "232ff00356059daec14210fb805963947e14e969"
      },
      "cell_type": "code",
      "source": "# Use the 'hue' argument to provide a factor variable\nsns.lmplot( x=\"Overall\", y=\"Value\", data=data, fit_reg=False, hue='AgeRange', legend=False)\n \n# Move the legend to an empty part of the plot\nplt.legend(loc='upper left')\n",
      "execution_count": null,
      "outputs": []
    },
    {
      "metadata": {
        "_uuid": "2ac1cefc2231b416af3f1d8b1756028381a1e326"
      },
      "cell_type": "markdown",
      "source": "Looking at the graph above, I see older player's values are lowest because they will be retire soon.  The mature players can earn a lot more value.  Their values are highest.  The younger players values are at second place, because they are young.  As they are getting older, their values might increase."
    },
    {
      "metadata": {
        "_uuid": "228ef35c832116330e56d22e65fefc40944f11b6"
      },
      "cell_type": "markdown",
      "source": "## 2.6 Percentages between Young, Mature, and Old Players"
    },
    {
      "metadata": {
        "trusted": true,
        "scrolled": false,
        "_uuid": "3105837211d4c69f18a036679bb009198620d8fc"
      },
      "cell_type": "code",
      "source": "plt.figure(figsize=(16,8))\nplt.title(\"Percentages of Young, Mature, and Old Players\", fontsize = 20, fontweight = 'bold')\nlabels = 'Mature','Young','Old'\nplt.rcParams['font.size'] = 20.0\nplt.pie(data.AgeRange.value_counts(), labels = labels, autopct='%1.1f%%', startangle=0)\nplt.axis('equal')\nplt.show()",
      "execution_count": null,
      "outputs": []
    },
    {
      "metadata": {
        "_uuid": "8b19759e0cc9915b9c5c13c8dfa0b3aaf94f02bd"
      },
      "cell_type": "markdown",
      "source": "* Players who are older than 33 years old are only 4.1% of the player pool.  Not a lot of players still play after they are 33 year old.  Most of players would be retired before 33 years old.\n* Young players and Mature players have 40.4% and 55.5% respectively.  "
    },
    {
      "metadata": {
        "_uuid": "db6abca02a08a923edf4b23fbf57f4e62b06e724"
      },
      "cell_type": "markdown",
      "source": "## 2.6 Value of Top 20 players in each Top 10 Countries"
    },
    {
      "metadata": {
        "trusted": true,
        "scrolled": true,
        "_uuid": "2d689e98bd793efaa5352ffe44d0456842d913b5"
      },
      "cell_type": "code",
      "source": "def get_top20_players(country):\n    top20players = data[data.Nationality == country].sort_values('Value',ascending = False)[:20]\n    return top20players\n\ntop10_nation_list = top20_nation.Nationality[:10].tolist()\n\nframes = []\nfor i in range(len(top10_nation_list)):\n    temp_df = get_top20_players(top10_nation_list[i])\n    frames.append(temp_df)\ntop_players_in_top10 = pd.concat(frames)\ntop_players_in_top10.head(3)",
      "execution_count": null,
      "outputs": []
    },
    {
      "metadata": {
        "trusted": true,
        "_uuid": "963dabc60fdaa2fe14cc16e5708a512b692c28fa"
      },
      "cell_type": "code",
      "source": "plt.figure(figsize=(20,14))\nsns.boxplot(x=\"Nationality\",y = 'Value',data = top_players_in_top10)\nplt.title(\"Value of Top 20 players in each Top 10 Countries\", fontsize = 30, fontweight = 'bold')\nplt.xlabel('Countries', fontsize=25)\nplt.ylabel('Value', fontsize=25)\nplt.show()",
      "execution_count": null,
      "outputs": []
    },
    {
      "metadata": {
        "_uuid": "f8ff3d09719a4396998976368b42d85169e9bc60"
      },
      "cell_type": "markdown",
      "source": "Looking at the graph above:\n* Brazil has one player who has highest value. \n* Players who are from England and Japan have value really close to their teammates.\n* In term of median, Spain has the most value."
    },
    {
      "metadata": {
        "_uuid": "76c290e91b5e1c02f8114bf2d2ea9665e4a69697"
      },
      "cell_type": "markdown",
      "source": "# 3. Match Analysis\nThe comparation is using only 11 players in lineups because\n\n## 3.1 France vs Belgium ( 1 st quater final)"
    },
    {
      "metadata": {
        "trusted": true,
        "_uuid": "86efd9231322f723629e51f9656dbc13ba436a07"
      },
      "cell_type": "code",
      "source": "# define a function that get location of each players from a name list\ndef get_location(player_list,data):\n    location=[]\n    for idx,s in enumerate(data.Name):\n        for player in player_list:\n            if player in s:\n                location.append(idx)\n    return location\n",
      "execution_count": null,
      "outputs": []
    },
    {
      "metadata": {
        "trusted": true,
        "_uuid": "8901046d6d131b74b96146428fd07d5db27b7e6d"
      },
      "cell_type": "code",
      "source": "# Players who are younger than 20 will have 95% of their overall score\n# Players who are older than 29 will have 98% of their overall score\ndef overall_adjusted_score(input_data):\n    data = input_data.copy()\n    data.loc[data.index[(data.Age < 20)],\"Overall\"]=data.loc[data.index[(data.Age < 20)],\"Overall\"]*0.95\n    data.loc[data.index[(data.Age >29)],\"Overall\"]=data.loc[data.index[(data.Age >29)],\"Overall\"]*0.98\n    return data.Overall.mean()",
      "execution_count": null,
      "outputs": []
    },
    {
      "metadata": {
        "_uuid": "fd041878a452a52869570fd25611348a00480213"
      },
      "cell_type": "markdown",
      "source": "### 3.1.1 Teams Analysis"
    },
    {
      "metadata": {
        "_uuid": "a3696d8aa20971e780fe515c4f9e2e0f16a45eb8",
        "trusted": true,
        "scrolled": false
      },
      "cell_type": "code",
      "source": "Image(\"../input/worldcup2018/FranceVsBelgium.png\")",
      "execution_count": null,
      "outputs": []
    },
    {
      "metadata": {
        "trusted": true,
        "_uuid": "7adf292929d6e99a5058626e74631c5aa9d55c55"
      },
      "cell_type": "code",
      "source": "FrancePlayers = [\"H. Lloris\",\"B. Pavard\",\"R. Varane\",\"S. Umtiti\",\"L. Hernandez\",\"N. Kante\",\"P. Pogba\",\"K. Mbappe\",\"A. Griezmann\",\"B. Matuidi\",\"O. Giroud\"]\nBelgiumPlayers = [\"R. Lukaku\",\"E. Hazard\",\"M. Fellaini\",\"K. De Bruyne\",\"M. Dembele\",\"A. Witsel\",\"J. Vertonghen\",\"V. Kompany\",\"T. Alderweireld\",\"N. Chadli\",\"T. Courtois\"]",
      "execution_count": null,
      "outputs": []
    },
    {
      "metadata": {
        "trusted": true,
        "_uuid": "f016355ee22e475edb83e03af95d65a3424fe7d6"
      },
      "cell_type": "code",
      "source": "all_france_players =data[data.Nationality == \"France\"]\nFrance_lineups = all_france_players.iloc[get_location(FrancePlayers,all_france_players),:]\nFrance_lineups\n",
      "execution_count": null,
      "outputs": []
    },
    {
      "metadata": {
        "_uuid": "4e92e9bcb9c6a6c6b43aafa546cfcc75d8623ed1"
      },
      "cell_type": "markdown",
      "source": "In France_lineups, we found only 8 players.  We are missing 3 more players who are L. Hernandez,  N. Kante, and K. Mbappe.  I found the data for those players on sofifa.com.\n\n* K. Mbappe: age:20, Overall: 88, Value: 81M\n* L. Hernandez: age:22, Overall: 83, Value: 29.5M\n* N. Kante: age:27, Overall: 89, Value: 63M"
    },
    {
      "metadata": {
        "trusted": true,
        "_uuid": "bc60ef9a823d6944fb7b2069f43e8dacf2b3e756"
      },
      "cell_type": "code",
      "source": "# Add missing players to France_lineups dataframe\nFrance_lineups=France_lineups.append({'Name' : 'K. Mbappe' , 'Age' : 20, 'Nationality': 'France', 'Overall' : 88, 'Value' : 81000000} , ignore_index=True)\nFrance_lineups=France_lineups.append({'Name' : 'L. Hernandez' , 'Age' : 22, 'Nationality': 'France', 'Overall' : 83, 'Value' : 29500000} , ignore_index=True)\nFrance_lineups=France_lineups.append({'Name' : 'N. Kante' , 'Age' : 27, 'Nationality': 'France', 'Overall' : 89, 'Value' : 63000000} , ignore_index=True)\n",
      "execution_count": null,
      "outputs": []
    },
    {
      "metadata": {
        "trusted": true,
        "_uuid": "e064f4fd4d76574036eebc55f4414bc5c53e4db5"
      },
      "cell_type": "code",
      "source": "# complete France Lineups\nFrance_lineups",
      "execution_count": null,
      "outputs": []
    },
    {
      "metadata": {
        "trusted": true,
        "_uuid": "0507505d84cc9c37f238e61bbf2158231ac85ce6"
      },
      "cell_type": "code",
      "source": "# Belgium\nall_belgium_players =data[data.Nationality == \"Belgium\"]\nBelgium_lineups = all_belgium_players.iloc[get_location(BelgiumPlayers,all_belgium_players),:]\nBelgium_lineups",
      "execution_count": null,
      "outputs": []
    },
    {
      "metadata": {
        "trusted": true,
        "_uuid": "ed420061c6ac9b721c8c9d09285a5073e1e06c08"
      },
      "cell_type": "markdown",
      "source": "In Belgium lineups, I have 10 players.  We are missing one player who is M. Dembele. \n\n* M. Dembele: age:30, Overall: 82, Value: 0"
    },
    {
      "metadata": {
        "trusted": true,
        "scrolled": true,
        "_uuid": "cca5f3ef5650565c4bfe067ea898d653fa08527c"
      },
      "cell_type": "code",
      "source": "# Add missing players to Belgium_lineups dataframe\nBelgium_lineups=Belgium_lineups.append({'Name' : 'M. Dembele' , 'Age' : 30, 'Nationality': 'Belgium', 'Overall' : 82, 'Value' : 0} , ignore_index=True)\nBelgium_lineups",
      "execution_count": null,
      "outputs": []
    },
    {
      "metadata": {
        "_uuid": "b2c0df895b96a55833577f2be50ca16bf859214f"
      },
      "cell_type": "markdown",
      "source": "### Age"
    },
    {
      "metadata": {
        "trusted": true,
        "_uuid": "96908808c0755c3b813ade12d55be298996c4bd3"
      },
      "cell_type": "code",
      "source": "print(\"Here is France's average age: {:.2f},comparing against Belgium's average age: {:.2f}.\".format(France_lineups.Age.mean(),Belgium_lineups.Age.mean()))\nprint(\"We can see France players are younger than Belgium players on average. It means Belgium have more experiences than France. France players are youngers, so they have more strength.\")",
      "execution_count": null,
      "outputs": []
    },
    {
      "metadata": {
        "trusted": true,
        "_uuid": "c88345ef7e78278231c5c043bb77b00ac2ec96cb"
      },
      "cell_type": "code",
      "source": "plt.figure(figsize=(16,8))\nsns.set_style(\"whitegrid\")\nplt.title('France Players Age', fontsize=30, fontweight='bold', y=1.05,)\nplt.xlabel('x', fontsize=25)\nplt.ylabel('y', fontsize=25)\nsns.countplot(x=\"Age\", data=France_lineups, palette=\"hls\");\nplt.show()",
      "execution_count": null,
      "outputs": []
    },
    {
      "metadata": {
        "trusted": true,
        "_uuid": "70fda67be9686d7df8507c31521c341283177b80",
        "scrolled": false
      },
      "cell_type": "code",
      "source": "plt.figure(figsize=(16,8))\nsns.set_style(\"whitegrid\")\nplt.title('Belgium Players Age', fontsize=30, fontweight='bold', y=1.05,)\nplt.xlabel('x', fontsize=25)\nplt.ylabel('y', fontsize=25)\nsns.countplot(x=\"Age\", data=Belgium_lineups, palette=\"hls\");\nplt.show()",
      "execution_count": null,
      "outputs": []
    },
    {
      "metadata": {
        "_uuid": "b92c5474830c5559418f3ea2c9025ffa51cf4669"
      },
      "cell_type": "markdown",
      "source": "### Value"
    },
    {
      "metadata": {
        "_uuid": "c57a697f2b6550a6770b5c8ca757cd35fae56313"
      },
      "cell_type": "markdown",
      "source": "I will replace the value of A. Witsel and M. Dembele with Belgium's average value ."
    },
    {
      "metadata": {
        "trusted": true,
        "_uuid": "ff93c67ee579e3c44c2cf93882922b4c1a2b0890"
      },
      "cell_type": "code",
      "source": "names = ['A. Witsel','M. Dembele']\nmean = Belgium_lineups.Value.mean()\nBelgium_lineups.loc[get_location(names,Belgium_lineups),'Value'] = mean\nBelgium_lineups",
      "execution_count": null,
      "outputs": []
    },
    {
      "metadata": {
        "trusted": true,
        "_uuid": "7ba3fb86040695a6ba189c63ecabd12f802d2ab0"
      },
      "cell_type": "code",
      "source": "print('Here is total value of France: €{:.2f}M, \\nand here is total value of Belgium: €{:.2f}M'.format(France_lineups.Value.sum()/1000000,Belgium_lineups.Value.sum()/1000000))\n",
      "execution_count": null,
      "outputs": []
    },
    {
      "metadata": {
        "_uuid": "5e72b4dae95698730aaece02715e9e862feea19d"
      },
      "cell_type": "markdown",
      "source": "Belgium have one point here because its total value is greater than France's total value."
    },
    {
      "metadata": {
        "_uuid": "a7ebde07e8d1386901eb246cf7fdee60fa724279"
      },
      "cell_type": "markdown",
      "source": "### Forward"
    },
    {
      "metadata": {
        "trusted": true,
        "_uuid": "8589545965a551425a2bb96efd81ed78fa5e7241"
      },
      "cell_type": "code",
      "source": "France_Forward_Players = [\"K. Mbappe\",\"A. Griezmann\",\"B. Matuidi\",\"O. Giroud\"]\nBelgium_Forward_Players = [\"R. Lukaku\",\"E. Hazard\",\"M. Fellaini\",\"K. De Bruyne\"]",
      "execution_count": null,
      "outputs": []
    },
    {
      "metadata": {
        "trusted": true,
        "_uuid": "c59087fe64f3f24a63ff28f9b622598729420ea3"
      },
      "cell_type": "code",
      "source": "France_Forward_Lineups=France_lineups.iloc[get_location(France_Forward_Players,France_lineups),:]\nBelgium_Forward_Lineups=Belgium_lineups.iloc[get_location(Belgium_Forward_Players,Belgium_lineups),:]",
      "execution_count": null,
      "outputs": []
    },
    {
      "metadata": {
        "trusted": true,
        "_uuid": "eb6171c8617796362a72f9dd66fa537905eab7d5"
      },
      "cell_type": "code",
      "source": "print(\"With adjusted overall score for forward lineups, France's average Overall score: {:.2f},comparing against Belgium's average Overall score: {:.2f}.\".format(overall_adjusted_score(France_Forward_Lineups),overall_adjusted_score(Belgium_Forward_Lineups)))",
      "execution_count": null,
      "outputs": []
    },
    {
      "metadata": {
        "_uuid": "e0d4046c695754bda008d22a5e93b0ad847a3960"
      },
      "cell_type": "markdown",
      "source": "Belgium's forward players are stronger than France's, so Belgium receives one point."
    },
    {
      "metadata": {
        "_uuid": "cabeaed6ee226c74c76dba30f3276230f520f1b3"
      },
      "cell_type": "markdown",
      "source": "### Midfielder"
    },
    {
      "metadata": {
        "trusted": true,
        "_uuid": "495aed01954ce5720c02766f688fab9c6e926ec4"
      },
      "cell_type": "code",
      "source": "France_Midfielder_Players = [\"N. Kante\",\"P. Pogba\"]\nBelgium_Midfielder_Players = [\"M. Dembele\",\"A. Witsel\"]",
      "execution_count": null,
      "outputs": []
    },
    {
      "metadata": {
        "trusted": true,
        "_uuid": "5085ce4a25b9b051739b7b9967fcb092ed47da2f"
      },
      "cell_type": "code",
      "source": "France_Midfielder_Lineups=France_lineups.iloc[get_location(France_Midfielder_Players,France_lineups),:]\nBelgium_Midfielder_Lineups=Belgium_lineups.iloc[get_location(Belgium_Midfielder_Players,Belgium_lineups),:]",
      "execution_count": null,
      "outputs": []
    },
    {
      "metadata": {
        "trusted": true,
        "_uuid": "82b6b29da46abf2329c3410ff9dca3d26be4b46d"
      },
      "cell_type": "code",
      "source": "print(\"With adjusted overall score for midfielder lineups, France's average Overall score: {:.2f},comparing against Belgium's average Overall score: {:.2f}.\".format(overall_adjusted_score(France_Midfielder_Lineups),overall_adjusted_score(Belgium_Midfielder_Lineups)))",
      "execution_count": null,
      "outputs": []
    },
    {
      "metadata": {
        "_uuid": "5e597abccaca23b2ae03709db61d5baaacba39eb"
      },
      "cell_type": "markdown",
      "source": "France's midfield players are stronger than Belgium's, so France receives one point."
    },
    {
      "metadata": {
        "_uuid": "1b87d5d689474b24d2b4d12b2a5bc78abd248093"
      },
      "cell_type": "markdown",
      "source": "### Defender"
    },
    {
      "metadata": {
        "trusted": true,
        "_uuid": "00f72d538bf3914ddf1b526fda27a4a06d2d3567"
      },
      "cell_type": "code",
      "source": "France_Defender_Players = [\"B. Pavard\",\"R. Varane\",\"S. Umtiti\",\"L. Hernandez\"]\nBelgium_Defender_Players = [\"J. Vertonghen\",\"V. Kompany\",\"T. Alderweireld\",\"N. Chadli\"]",
      "execution_count": null,
      "outputs": []
    },
    {
      "metadata": {
        "trusted": true,
        "_uuid": "e2c5c2e29fe1d2027badd24ea5ad5daa12285604"
      },
      "cell_type": "code",
      "source": "France_Defender_Lineups=France_lineups.iloc[get_location(France_Defender_Players,France_lineups),:]\nBelgium_Defender_Lineups=Belgium_lineups.iloc[get_location(Belgium_Defender_Players,Belgium_lineups),:]",
      "execution_count": null,
      "outputs": []
    },
    {
      "metadata": {
        "trusted": true,
        "_uuid": "f02ca7aa4819a42fc3b7e409fee1352ffeb1d32f"
      },
      "cell_type": "code",
      "source": "print(\"With adjusted overall score for defender lineups, France's average Overall score: {:.2f},comparing against Belgium's average Overall score: {:.2f}.\".format(overall_adjusted_score(France_Defender_Lineups),overall_adjusted_score(Belgium_Defender_Lineups)))",
      "execution_count": null,
      "outputs": []
    },
    {
      "metadata": {
        "_uuid": "a3a00343b8830188035cbb99ee0ab8ae1b3a1536"
      },
      "cell_type": "markdown",
      "source": "Belgium's defend players are stronger than France's, so Belgium receives one point."
    },
    {
      "metadata": {
        "_uuid": "9e699aab2fed171a3eb3b5cef588dec826410ba5"
      },
      "cell_type": "markdown",
      "source": "### Goalkeeper"
    },
    {
      "metadata": {
        "trusted": true,
        "_uuid": "ce5c7af3a71cb4476e73421e2942733b512822aa"
      },
      "cell_type": "code",
      "source": "France_Goalkeeper_Players = [\"H. Lloris\"]\nBelgium_Goalkeeper_Players = [\"T. Courtois\"]",
      "execution_count": null,
      "outputs": []
    },
    {
      "metadata": {
        "trusted": true,
        "_uuid": "fbd1bdb4dfcbb6d88efad4c4cd3535b144f359b1"
      },
      "cell_type": "code",
      "source": "France_Goalkeeper_Lineups=France_lineups.iloc[get_location(France_Goalkeeper_Players,France_lineups),:]\nBelgium_Goalkeeper_Lineups=Belgium_lineups.iloc[get_location(Belgium_Goalkeeper_Players,Belgium_lineups),:]",
      "execution_count": null,
      "outputs": []
    },
    {
      "metadata": {
        "trusted": true,
        "_uuid": "e09afce21379ac7b7047f461740a9d10d9ce8de0"
      },
      "cell_type": "code",
      "source": "print(France_Goalkeeper_Lineups)\nprint(Belgium_Goalkeeper_Lineups)",
      "execution_count": null,
      "outputs": []
    },
    {
      "metadata": {
        "_uuid": "e21ca301e16c3c1f92480c5f797ba6a5178e3b18"
      },
      "cell_type": "markdown",
      "source": "Belgium's goalkeeper is stronger than France's, so Belgium recieves one point."
    },
    {
      "metadata": {
        "trusted": true,
        "_uuid": "be6e359658b159156af6779d2a643a258933c9f7"
      },
      "cell_type": "markdown",
      "source": "### Overall Score"
    },
    {
      "metadata": {
        "trusted": true,
        "_uuid": "816126d8d991ef393ab8e355416e842c357388f0"
      },
      "cell_type": "code",
      "source": "print(\"With unadjusted overall score, France's average Overall score: {:.2f},comparing against Belgium's average Overall score: {:.2f}.\".format(France_lineups.Overall.mean(),Belgium_lineups.Overall.mean()))\nprint(\"Belgium's overall score is higher than France's overall score.\")",
      "execution_count": null,
      "outputs": []
    },
    {
      "metadata": {
        "trusted": true,
        "_uuid": "5182475e82160386e9e140f3e7169ea1c6e8c46f"
      },
      "cell_type": "code",
      "source": "print(\"With adjusted overall score, France's average Overall score: {:.2f},comparing against Belgium's average Overall score: {:.2f}.\".format(overall_adjusted_score(France_lineups),overall_adjusted_score(Belgium_lineups)))\nprint(\"Belgium's overall score is higher than France's overall score.\")",
      "execution_count": null,
      "outputs": []
    },
    {
      "metadata": {
        "_uuid": "b30c165fa5d36003e597ca57e6bc2825ef8477f0"
      },
      "cell_type": "markdown",
      "source": "Belgium's overall score is higher than France's overall score on both adjusted and unadjusted version.  Belgium will get one point."
    },
    {
      "metadata": {
        "_uuid": "6a660188e31d162ea9c9e1802d5d83ef436faee4"
      },
      "cell_type": "markdown",
      "source": "### History games\n#### This is results whenever France play against Belgium in history\n\n| France Won        | Drawn           |  Belgium Won |\n| ------------- |:-------------:| -----:|-----:|\n| 24\t| 19\t| 30\n\n[Here](https://www.11v11.com/teams/france/tab/opposingTeams/opposition/Belgium/) is where I found that data.\n\n"
    },
    {
      "metadata": {
        "trusted": true,
        "_uuid": "9b0c3151b29b733915176358ad1f1e80bd184c26"
      },
      "cell_type": "code",
      "source": "print(\"Total games: {}\".format(24+19+30))\nprint(\"France winrate: {:.2f}%\".format(24*100/73))\nprint(\"Belgium winrate: {:.2f}%\".format(30*100/73))\nprint(\"Belgium has more chance to win than France.\")",
      "execution_count": null,
      "outputs": []
    },
    {
      "metadata": {
        "_uuid": "8d930cd5dd5f30b6794ebad5632abb4a7c4cf59c"
      },
      "cell_type": "markdown",
      "source": "### 3.1.2 Prediction"
    },
    {
      "metadata": {
        "_uuid": "a1481c053cdad8df9425953dde7de996bbd770af"
      },
      "cell_type": "markdown",
      "source": "|         | **France**           |  **Belgium **  |\n| ------------- |:-------------:| -----:|\n|Value\t| 0 | 1|\n| Forward | 0\t|1\t|\n|Midfielder\t| 1 | 0|\n| Defender| 0\t|1\t|\n| Goalkeeper| 0\t|1\t|\n| Overall score\t|0|1\t| \n| History games\t|0|1\t| \n| **Total**\t| **1**\t| ** 6**\t|\n\n**Belgium obviously has advantages over France, so I think Belgium has more chance to win this game.  I see France is a weaker team.**"
    },
    {
      "metadata": {
        "_uuid": "e6000270dbd973750bcb7cec709cef8d2ed034ea"
      },
      "cell_type": "markdown",
      "source": "### 3.1.3 Result"
    },
    {
      "metadata": {
        "_uuid": "542d5e462baae3b3a6f059e794560a9ded96ae43",
        "trusted": true
      },
      "cell_type": "code",
      "source": "Image(\"../input/worldcup2018/FranceVsBelgiumResult.png\")",
      "execution_count": null,
      "outputs": []
    },
    {
      "metadata": {
        "_uuid": "1cbbfef69e5ee7dfbc0dc964be4d50df45e863cf"
      },
      "cell_type": "markdown",
      "source": "**The result is France won over Belgium.  Looking at the stats after the game, Belgium controlled the game with 64%, made 594 passes with 91% accuracy.  It showed that Belgium was a better team.  However, Belgium could not make a lot of shots.  It had only 3 shots on target.  **\n\n**On the other hand, France was a weaker team that could not control of the game, but it made a lot of shots (19 shots).  Whenever France had the ball, they tried to shoot to the goal and 5 of them was on target.  Finally, France scored one and won the game.**"
    },
    {
      "metadata": {
        "_uuid": "b68756cfff0a7649b2a60335bd2eb64b5d2d2846"
      },
      "cell_type": "markdown",
      "source": "## We can try to analyze the other games like that to see which team has more advantages.  "
    },
    {
      "metadata": {
        "_uuid": "ffb7d791c9172cf3b0575fe8bd5368cddcb969e0"
      },
      "cell_type": "markdown",
      "source": "## 3.2 Croatia vs England ( 2nd quater final)\n### 3.2.1 Teams Analysis"
    },
    {
      "metadata": {
        "trusted": true,
        "_uuid": "4afc24ed2a3702e32aa968bd46a8502e1d8ae2ee"
      },
      "cell_type": "code",
      "source": "Image(\"../input/worldcup2018/CroatiaVsEngland.png\")",
      "execution_count": null,
      "outputs": []
    },
    {
      "metadata": {
        "trusted": true,
        "_uuid": "092b1dd0a80968e4ab62daaa652c7fd942d504b6"
      },
      "cell_type": "code",
      "source": "CroatiaPlayers = [\"D. Subašić\",\"S. Vrsaljko\",\"D. Lovren\",\"D. Vida\",\"I. Strinić\",\"M. Brozović\",\"A. Rebić\",\"L. Modrić\",\"I. Rakitić\",\"I. Perišić\", \"M. Mandžukić\"]\nEnglandPlayers = [\"R. Sterling\",\"H. Kane\",\"D. Alli\",\"J. Lingard\",\"A. Young\",\"K. Trippier\",\"J. Henderson\", \"H. Maguire\",\"J. Stones\",\"K. Walker\",\"J. Pickford\"]",
      "execution_count": null,
      "outputs": []
    },
    {
      "metadata": {
        "trusted": true,
        "_uuid": "a93b11c718b52748efb2d5325e6b08ac807f27fa"
      },
      "cell_type": "code",
      "source": "all_croatia_players =data[data.Nationality == \"Croatia\"]\nCroatia_lineups = all_croatia_players.iloc[get_location(CroatiaPlayers,all_croatia_players),:]\nCroatia_lineups",
      "execution_count": null,
      "outputs": []
    },
    {
      "metadata": {
        "trusted": true,
        "_uuid": "672202e9c738de3c0f7d72da58e4d0e06a8e33f4"
      },
      "cell_type": "markdown",
      "source": "In Croatia_lineups, we found 11 players.  However, we have a duplicate D. Lovren, and we are missing D. Vida. I found information about D. Vida [here ](https://sofifa.com/player/199206/domagoj-vida/)\n\n* D. Vida: age:29, Overall: 80, Value: 11.5M\n"
    },
    {
      "metadata": {
        "trusted": true,
        "_uuid": "f311fc92c392504b0ca3ccdf0aba4c80ea47e09a"
      },
      "cell_type": "code",
      "source": "# Add missing players to Croatia_lineups dataframe\nCroatia_lineups=Croatia_lineups.append({'Name' : 'D. Vida' , 'Age' : 29, 'Nationality': 'Croatia', 'Overall' : 80, 'Value' : 11500000} , ignore_index=True)\nCroatia_lineups",
      "execution_count": null,
      "outputs": []
    },
    {
      "metadata": {
        "trusted": true,
        "_uuid": "cceb28d5ae06878f6d2d35fdfa104ed4aef81478"
      },
      "cell_type": "code",
      "source": "# Remove D. Lovren who has overall score 58.  I will keep D. Lovren with overall score at 81.\nCroatia_lineups.drop(index = 10)",
      "execution_count": null,
      "outputs": []
    },
    {
      "metadata": {
        "trusted": true,
        "_uuid": "75985108e6eafbde33f15a6f949bf8dc6902f2a3"
      },
      "cell_type": "code",
      "source": "all_england_players =data[data.Nationality == \"England\"]\nEngland_lineups = all_england_players.iloc[get_location(EnglandPlayers,all_england_players),:]\nEngland_lineups",
      "execution_count": null,
      "outputs": []
    },
    {
      "metadata": {
        "_uuid": "6615cdd41c413736664cc934682dc9b0de905126"
      },
      "cell_type": "markdown",
      "source": "We found 13 players.  However, we have a duplicate J. Lingard, and K. Walker-Perter who is not in the lineup.  We need to remove those players."
    },
    {
      "metadata": {
        "trusted": true,
        "_uuid": "da2f0daa254faea2e1b836bb43b6fb4e1ac10f4f"
      },
      "cell_type": "code",
      "source": "England_lineups.drop(England_lineups.index[[7,12]])",
      "execution_count": null,
      "outputs": []
    },
    {
      "metadata": {
        "trusted": true,
        "_uuid": "18cf941aade70574af4dd05ada5ab9adc1497b62"
      },
      "cell_type": "code",
      "source": "print(\"Here is Croatia's average age: {:.2f},comparing against England's average age: {:.2f}.\".format(Croatia_lineups.Age.mean(),England_lineups.Age.mean()))\nprint(\"We can see England players are younger than Croatia players on average. It means Croatia have more experiences than France. England players are youngers, so they have more strength.\")",
      "execution_count": null,
      "outputs": []
    },
    {
      "metadata": {
        "trusted": true,
        "_uuid": "73d931f3b50d1a5f93588ae33cb51cd04daac389"
      },
      "cell_type": "code",
      "source": "",
      "execution_count": null,
      "outputs": []
    },
    {
      "metadata": {
        "trusted": true,
        "_uuid": "d0beff70523e110c40dc6fc4d0d2abf78606a00d"
      },
      "cell_type": "code",
      "source": "",
      "execution_count": null,
      "outputs": []
    },
    {
      "metadata": {
        "trusted": true,
        "_uuid": "ea0695cbe0c974225fb5603f583128af84a518ad"
      },
      "cell_type": "code",
      "source": "",
      "execution_count": null,
      "outputs": []
    },
    {
      "metadata": {
        "trusted": true,
        "_uuid": "7ffbfa7f706211427e2d521af3cb1d01eeef86e3"
      },
      "cell_type": "code",
      "source": "",
      "execution_count": null,
      "outputs": []
    },
    {
      "metadata": {
        "trusted": true,
        "_uuid": "14cb6781763bd54ff058b63cd800ae1971b562ef"
      },
      "cell_type": "code",
      "source": "",
      "execution_count": null,
      "outputs": []
    },
    {
      "metadata": {
        "_uuid": "71b638b24618481f110f5350292e6d6b12438bd0"
      },
      "cell_type": "markdown",
      "source": "### History Games\n#### This is results whenever Croatia play against England in the World Cup history\n\n| Date        | Match          | Score |\n| ------------- |:-------------:| -----:|\n| 10 Sep 2008\t|Croatia v England\t| \t1-4\n| 09 Sep 2009\t|England v Croatia\t|  5-1\n\n\n[Here](https://www.11v11.com/teams/england/tab/opposingTeams/opposition/Croatia/) is where I found that data.\n\nThey only played twice, and England won both games."
    },
    {
      "metadata": {
        "_uuid": "6256a55fab0b7d43259f048f2593e5b4fdf1fac4"
      },
      "cell_type": "markdown",
      "source": "### 3.2.2 Prediction"
    },
    {
      "metadata": {
        "trusted": true,
        "_uuid": "c12f48f84fd36b1fddd4c2a6b08d72f330c87153"
      },
      "cell_type": "code",
      "source": "",
      "execution_count": null,
      "outputs": []
    },
    {
      "metadata": {
        "_uuid": "7fe2a8b2b35173fa15aaf2f96ebe2dd7d4193053"
      },
      "cell_type": "markdown",
      "source": "### 3.2.3 Result"
    },
    {
      "metadata": {
        "trusted": true,
        "_uuid": "55d58ced02defccb3ce2b93c6c7691ffe26c7263"
      },
      "cell_type": "code",
      "source": "",
      "execution_count": null,
      "outputs": []
    },
    {
      "metadata": {
        "_uuid": "c28257a98c4e93310d69a76f062568d7d092a97d"
      },
      "cell_type": "markdown",
      "source": "## 3.3 France vs Croatia ( Final)"
    },
    {
      "metadata": {
        "_uuid": "d97a0efbcf4dbc33e6614bd3c3a0dc8df2ad78fd"
      },
      "cell_type": "markdown",
      "source": "### 3.3.1 Teams Analysis"
    },
    {
      "metadata": {
        "trusted": true,
        "_uuid": "99d085108ebc0170e1662ba6d5e38e3d1628d13c"
      },
      "cell_type": "code",
      "source": "Image(\"../input/worldcup2018/FranceVsCroatia.png\")",
      "execution_count": null,
      "outputs": []
    },
    {
      "metadata": {
        "trusted": true,
        "_uuid": "88c67825b09b935d1a38c17598e062c1b385ad7a"
      },
      "cell_type": "code",
      "source": "",
      "execution_count": null,
      "outputs": []
    },
    {
      "metadata": {
        "trusted": true,
        "_uuid": "7d06923da9ea9a48632fe87065159a21842ed508"
      },
      "cell_type": "code",
      "source": "",
      "execution_count": null,
      "outputs": []
    },
    {
      "metadata": {
        "trusted": true,
        "_uuid": "4ee709e166fe2b87bf1efa69f5553f7cceafb58d"
      },
      "cell_type": "markdown",
      "source": ""
    },
    {
      "metadata": {
        "_uuid": "9d87c939b8f591982fcf118eb994afb17d67907d"
      },
      "cell_type": "markdown",
      "source": "### 3.3.2 Prediction"
    },
    {
      "metadata": {
        "trusted": true,
        "_uuid": "ad4323ea28bbdf9e2f3feff1b2f65b91e0c8341a"
      },
      "cell_type": "code",
      "source": "",
      "execution_count": null,
      "outputs": []
    },
    {
      "metadata": {
        "_uuid": "ffccc698b54c75bf10b753a6819b46a09581f5f9"
      },
      "cell_type": "markdown",
      "source": "### 3.3.3 Result"
    },
    {
      "metadata": {
        "trusted": true,
        "_uuid": "b900af94e00ddafd19007690ff3f9020b553c427"
      },
      "cell_type": "code",
      "source": "",
      "execution_count": null,
      "outputs": []
    }
  ],
  "metadata": {
    "kernelspec": {
      "display_name": "Python 3",
      "language": "python",
      "name": "python3"
    },
    "language_info": {
      "name": "python",
      "version": "3.6.6",
      "mimetype": "text/x-python",
      "codemirror_mode": {
        "name": "ipython",
        "version": 3
      },
      "pygments_lexer": "ipython3",
      "nbconvert_exporter": "python",
      "file_extension": ".py"
    }
  },
  "nbformat": 4,
  "nbformat_minor": 1
}